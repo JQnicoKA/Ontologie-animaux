{
  "nbformat": 4,
  "nbformat_minor": 0,
  "metadata": {
    "colab": {
      "provenance": []
    },
    "kernelspec": {
      "name": "python3",
      "display_name": "Python 3"
    },
    "language_info": {
      "name": "python"
    }
  },
  "cells": [
    {
      "cell_type": "code",
      "execution_count": 3,
      "metadata": {
        "colab": {
          "base_uri": "https://localhost:8080/"
        },
        "id": "Zs7cPXCotJuH",
        "outputId": "30b76092-8338-4779-ab7a-3ebf15c4a024"
      },
      "outputs": [
        {
          "output_type": "stream",
          "name": "stdout",
          "text": [
            "Looking in indexes: https://pypi.org/simple, https://us-python.pkg.dev/colab-wheels/public/simple/\n",
            "Collecting rdflib\n",
            "  Downloading rdflib-6.3.2-py3-none-any.whl (528 kB)\n",
            "\u001b[2K     \u001b[90m━━━━━━━━━━━━━━━━━━━━━━━━━━━━━━━━━━━━━━\u001b[0m \u001b[32m528.1/528.1 kB\u001b[0m \u001b[31m31.4 MB/s\u001b[0m eta \u001b[36m0:00:00\u001b[0m\n",
            "\u001b[?25hCollecting isodate<0.7.0,>=0.6.0 (from rdflib)\n",
            "  Downloading isodate-0.6.1-py2.py3-none-any.whl (41 kB)\n",
            "\u001b[2K     \u001b[90m━━━━━━━━━━━━━━━━━━━━━━━━━━━━━━━━━━━━━━━━\u001b[0m \u001b[32m41.7/41.7 kB\u001b[0m \u001b[31m4.6 MB/s\u001b[0m eta \u001b[36m0:00:00\u001b[0m\n",
            "\u001b[?25hRequirement already satisfied: pyparsing<4,>=2.1.0 in /usr/local/lib/python3.10/dist-packages (from rdflib) (3.0.9)\n",
            "Requirement already satisfied: six in /usr/local/lib/python3.10/dist-packages (from isodate<0.7.0,>=0.6.0->rdflib) (1.16.0)\n",
            "Installing collected packages: isodate, rdflib\n",
            "Successfully installed isodate-0.6.1 rdflib-6.3.2\n"
          ]
        }
      ],
      "source": [
        "!pip install rdflib"
      ]
    },
    {
      "cell_type": "code",
      "source": [
        "from rdflib import URIRef, BNode, Literal, Namespace, Graph, RDF\n",
        "from rdflib.namespace import FOAF, DCTERMS, XSD, RDF, SDO\n"
      ],
      "metadata": {
        "id": "fb0tCtlptWQH"
      },
      "execution_count": 7,
      "outputs": []
    },
    {
      "cell_type": "code",
      "source": [
        "# Création d'un graphe RDF\n",
        "g = Graph()\n",
        "\n",
        "# Définition des préfixes\n",
        "rdf = Namespace(\"http://www.w3.org/1999/02/22-rdf-syntax-ns#\")\n",
        "rdfs = Namespace(\"http://www.w3.org/2000/01/rdf-schema#\")\n",
        "owl = Namespace(\"http://www.w3.org/2002/07/owl#\")\n",
        "ontology = Namespace(\"http://exemple.com/ontologies/animaux.owl#\")\n",
        "\n",
        "# Ajout des triplets au graphe\n",
        "g.add((owl.Ontology, RDF.type, owl.Class))\n",
        "\n",
        "g.add((ontology.Animal, RDF.type, owl.Class))\n",
        "\n",
        "g.add((ontology.Mammifère, RDF.type, owl.Class))\n",
        "g.add((ontology.Mammifère, rdfs.subClassOf, ontology.Animal))\n",
        "g.add((ontology.Poisson, RDF.type, owl.Class))\n",
        "g.add((ontology.Poisson, rdfs.subClassOf, ontology.Animal))\n",
        "g.add((ontology.Oiseau, RDF.type, owl.Class))\n",
        "g.add((ontology.Oiseau, rdfs.subClassOf, ontology.Animal))\n",
        "\n",
        "g.add((ontology.Loup, RDF.type, owl.Class))\n",
        "g.add((ontology.Loup, rdfs.subClassOf, ontology.Mammifère))\n",
        "g.add((ontology.Ours, RDF.type, owl.Class))\n",
        "g.add((ontology.Ours, rdfs.subClassOf, ontology.Mammifère))\n",
        "g.add((ontology.Requin, RDF.type, owl.Class))\n",
        "g.add((ontology.Requin, rdfs.subClassOf, ontology.Poisson))\n",
        "g.add((ontology.Poisson_rouge, RDF.type, owl.Class))\n",
        "g.add((ontology.Poisson_rouge, rdfs.subClassOf, ontology.Poisson))\n",
        "g.add((ontology.Aigle, RDF.type, owl.Class))\n",
        "g.add((ontology.Aigle, rdfs.subClassOf, ontology.Oiseau))\n",
        "g.add((ontology.Passerin_indigo, RDF.type, owl.Class))\n",
        "g.add((ontology.Passerin_indigo, rdfs.subClassOf, ontology.Oiseau))\n",
        "\n",
        "\n",
        "\n",
        "# Affichage du graphe RDF\n",
        "print(g.serialize(format=\"turtle\"))"
      ],
      "metadata": {
        "id": "vhAvwUzy019U",
        "colab": {
          "base_uri": "https://localhost:8080/"
        },
        "outputId": "ce9b5818-8465-4836-efea-661b1894e81b"
      },
      "execution_count": 15,
      "outputs": [
        {
          "output_type": "stream",
          "name": "stdout",
          "text": [
            "@prefix owl: <http://www.w3.org/2002/07/owl#> .\n",
            "@prefix rdfs: <http://www.w3.org/2000/01/rdf-schema#> .\n",
            "\n",
            "<http://exemple.com/ontologies/animaux.owl#Aigle> a owl:Class ;\n",
            "    rdfs:subClassOf <http://exemple.com/ontologies/animaux.owl#Oiseau> .\n",
            "\n",
            "<http://exemple.com/ontologies/animaux.owl#Loup> a owl:Class ;\n",
            "    rdfs:subClassOf <http://exemple.com/ontologies/animaux.owl#Mammifère> .\n",
            "\n",
            "<http://exemple.com/ontologies/animaux.owl#Ours> a owl:Class ;\n",
            "    rdfs:subClassOf <http://exemple.com/ontologies/animaux.owl#Mammifère> .\n",
            "\n",
            "<http://exemple.com/ontologies/animaux.owl#Passerin_indigo> a owl:Class ;\n",
            "    rdfs:subClassOf <http://exemple.com/ontologies/animaux.owl#Oiseau> .\n",
            "\n",
            "<http://exemple.com/ontologies/animaux.owl#Poisson_rouge> a owl:Class ;\n",
            "    rdfs:subClassOf <http://exemple.com/ontologies/animaux.owl#Poisson> .\n",
            "\n",
            "<http://exemple.com/ontologies/animaux.owl#Requin> a owl:Class ;\n",
            "    rdfs:subClassOf <http://exemple.com/ontologies/animaux.owl#Poisson> .\n",
            "\n",
            "owl:Ontology a owl:Class .\n",
            "\n",
            "<http://exemple.com/ontologies/animaux.owl#Mammifère> a owl:Class ;\n",
            "    rdfs:subClassOf <http://exemple.com/ontologies/animaux.owl#Animal> .\n",
            "\n",
            "<http://exemple.com/ontologies/animaux.owl#Oiseau> a owl:Class ;\n",
            "    rdfs:subClassOf <http://exemple.com/ontologies/animaux.owl#Animal> .\n",
            "\n",
            "<http://exemple.com/ontologies/animaux.owl#Poisson> a owl:Class ;\n",
            "    rdfs:subClassOf <http://exemple.com/ontologies/animaux.owl#Animal> .\n",
            "\n",
            "<http://exemple.com/ontologies/animaux.owl#Animal> a owl:Class .\n",
            "\n",
            "\n"
          ]
        }
      ]
    },
    {
      "cell_type": "code",
      "source": [
        "# Ajout des triplets au graphe\n",
        "g.add((owl.Ontology, RDF.type, owl.Class))\n",
        "\n",
        "g.add((ontology.Propriété, RDF.type, owl.Class))\n",
        "\n",
        "g.add((ontology.Poil, RDF.type, owl.Class))\n",
        "g.add((ontology.Poil, rdfs.subClassOf, ontology.Propriété))\n",
        "g.add((ontology.Écaille, RDF.type, owl.Class))\n",
        "g.add((ontology.Écaille, rdfs.subClassOf, ontology.Propriété))\n",
        "g.add((ontology.Plume, RDF.type, owl.Class))\n",
        "g.add((ontology.Plume, rdfs.subClassOf, ontology.Propriété))\n",
        "\n",
        "g.add((ontology.Pattes_fines, RDF.type, owl.Class))\n",
        "g.add((ontology.Pattes_fines, rdfs.subClassOf, ontology.Poil))\n",
        "g.add((ontology.Pattes_épaisses, RDF.type, owl.Class))\n",
        "g.add((ontology.Pattes_épaisses, rdfs.subClassOf, ontology.Poil))\n",
        "g.add((ontology.Dents_de_scie, RDF.type, owl.Class))\n",
        "g.add((ontology.Dents_de_scie, rdfs.subClassOf, ontology.Écailles))\n",
        "g.add((ontology.Dents_petites, RDF.type, owl.Class))\n",
        "g.add((ontology.Dents_petites, rdfs.subClassOf, ontology.Écailles))\n",
        "g.add((ontology.Bec_busqué, RDF.type, owl.Class))\n",
        "g.add((ontology.Bec_busqué, rdfs.subClassOf, ontology.Plumes))\n",
        "g.add((ontology.Bec_droit, RDF.type, owl.Class))\n",
        "g.add((ontology.Bec_droit, rdfs.subClassOf, ontology.Plumes))\n",
        "\n",
        "\n",
        "\n",
        "# Affichage du graphe RDF\n",
        "print(g.serialize(format=\"turtle\"))"
      ],
      "metadata": {
        "id": "Tpn-YVl1tkSB",
        "colab": {
          "base_uri": "https://localhost:8080/"
        },
        "outputId": "49c12404-4fcb-49e2-aed4-faa8b8a80579"
      },
      "execution_count": 16,
      "outputs": [
        {
          "output_type": "stream",
          "name": "stdout",
          "text": [
            "@prefix owl: <http://www.w3.org/2002/07/owl#> .\n",
            "@prefix rdfs: <http://www.w3.org/2000/01/rdf-schema#> .\n",
            "\n",
            "<http://exemple.com/ontologies/animaux.owl#Aigle> a owl:Class ;\n",
            "    rdfs:subClassOf <http://exemple.com/ontologies/animaux.owl#Oiseau> .\n",
            "\n",
            "<http://exemple.com/ontologies/animaux.owl#Bec_busqué> a owl:Class ;\n",
            "    rdfs:subClassOf <http://exemple.com/ontologies/animaux.owl#Plumes> .\n",
            "\n",
            "<http://exemple.com/ontologies/animaux.owl#Bec_droit> a owl:Class ;\n",
            "    rdfs:subClassOf <http://exemple.com/ontologies/animaux.owl#Plumes> .\n",
            "\n",
            "<http://exemple.com/ontologies/animaux.owl#Dents_de_scie> a owl:Class ;\n",
            "    rdfs:subClassOf <http://exemple.com/ontologies/animaux.owl#Écailles> .\n",
            "\n",
            "<http://exemple.com/ontologies/animaux.owl#Dents_petites> a owl:Class ;\n",
            "    rdfs:subClassOf <http://exemple.com/ontologies/animaux.owl#Écailles> .\n",
            "\n",
            "<http://exemple.com/ontologies/animaux.owl#Loup> a owl:Class ;\n",
            "    rdfs:subClassOf <http://exemple.com/ontologies/animaux.owl#Mammifère> .\n",
            "\n",
            "<http://exemple.com/ontologies/animaux.owl#Ours> a owl:Class ;\n",
            "    rdfs:subClassOf <http://exemple.com/ontologies/animaux.owl#Mammifère> .\n",
            "\n",
            "<http://exemple.com/ontologies/animaux.owl#Passerin_indigo> a owl:Class ;\n",
            "    rdfs:subClassOf <http://exemple.com/ontologies/animaux.owl#Oiseau> .\n",
            "\n",
            "<http://exemple.com/ontologies/animaux.owl#Pattes_fines> a owl:Class ;\n",
            "    rdfs:subClassOf <http://exemple.com/ontologies/animaux.owl#Poil> .\n",
            "\n",
            "<http://exemple.com/ontologies/animaux.owl#Pattes_épaisses> a owl:Class ;\n",
            "    rdfs:subClassOf <http://exemple.com/ontologies/animaux.owl#Poil> .\n",
            "\n",
            "<http://exemple.com/ontologies/animaux.owl#Plume> a owl:Class ;\n",
            "    rdfs:subClassOf <http://exemple.com/ontologies/animaux.owl#Propriété> .\n",
            "\n",
            "<http://exemple.com/ontologies/animaux.owl#Poisson_rouge> a owl:Class ;\n",
            "    rdfs:subClassOf <http://exemple.com/ontologies/animaux.owl#Poisson> .\n",
            "\n",
            "<http://exemple.com/ontologies/animaux.owl#Requin> a owl:Class ;\n",
            "    rdfs:subClassOf <http://exemple.com/ontologies/animaux.owl#Poisson> .\n",
            "\n",
            "<http://exemple.com/ontologies/animaux.owl#Écaille> a owl:Class ;\n",
            "    rdfs:subClassOf <http://exemple.com/ontologies/animaux.owl#Propriété> .\n",
            "\n",
            "owl:Ontology a owl:Class .\n",
            "\n",
            "<http://exemple.com/ontologies/animaux.owl#Mammifère> a owl:Class ;\n",
            "    rdfs:subClassOf <http://exemple.com/ontologies/animaux.owl#Animal> .\n",
            "\n",
            "<http://exemple.com/ontologies/animaux.owl#Oiseau> a owl:Class ;\n",
            "    rdfs:subClassOf <http://exemple.com/ontologies/animaux.owl#Animal> .\n",
            "\n",
            "<http://exemple.com/ontologies/animaux.owl#Poil> a owl:Class ;\n",
            "    rdfs:subClassOf <http://exemple.com/ontologies/animaux.owl#Propriété> .\n",
            "\n",
            "<http://exemple.com/ontologies/animaux.owl#Poisson> a owl:Class ;\n",
            "    rdfs:subClassOf <http://exemple.com/ontologies/animaux.owl#Animal> .\n",
            "\n",
            "<http://exemple.com/ontologies/animaux.owl#Animal> a owl:Class .\n",
            "\n",
            "<http://exemple.com/ontologies/animaux.owl#Propriété> a owl:Class .\n",
            "\n",
            "\n"
          ]
        }
      ]
    },
    {
      "cell_type": "code",
      "source": [
        "# Ajout de la déclaration de propriété \"possède\"\n",
        "g.add((ontology.possède, RDF.type, owl.ObjectProperty))\n",
        "g.add((ontology.possède, rdfs.domain, ontology.Animal))\n",
        "g.add((ontology.possède, rdfs.range, ontology.Caractéristique))"
      ],
      "metadata": {
        "colab": {
          "base_uri": "https://localhost:8080/"
        },
        "id": "k7BuJ-XvbP_5",
        "outputId": "4372cfc1-c5a2-4c9b-fb33-3a65271bd376"
      },
      "execution_count": 17,
      "outputs": [
        {
          "output_type": "execute_result",
          "data": {
            "text/plain": [
              "<Graph identifier=Ndaae6825cac746e6bdbae54995f0e3dc (<class 'rdflib.graph.Graph'>)>"
            ]
          },
          "metadata": {},
          "execution_count": 17
        }
      ]
    }
  ]
}